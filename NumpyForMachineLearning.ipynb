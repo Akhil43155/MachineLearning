{
 "cells": [
  {
   "cell_type": "markdown",
   "id": "6192c76d",
   "metadata": {},
   "source": [
    "## Numpy(Numerical Python)\n",
    "NumPy library is an important foundational tool for studying Machine Learning. Many of its functions are very useful for performing any mathematical or scientific calculation. As it is known that mathematics is the foundation of machine learning, most of the mathematical tasks can be performed using NumPy."
   ]
  },
  {
   "cell_type": "markdown",
   "id": "f2f1114a",
   "metadata": {},
   "source": [
    "the basic concepts of functions in Numpy which are often used."
   ]
  },
  {
   "cell_type": "markdown",
   "id": "76f5184b",
   "metadata": {},
   "source": [
    "#### 1.Introduction to NumPy\n",
    "NumPy stands for ‘Numerical Python’. It is an open-source Python library used to perform various mathematical and scientific tasks. It contains multi-dimensional arrays and matrices, along with many high-level mathematical functions that operate on these arrays and matrices."
   ]
  },
  {
   "cell_type": "markdown",
   "id": "c34e0b99",
   "metadata": {},
   "source": [
    "#### 2. Installing NumPy\n",
    "you can install NumPy with:\n",
    "\n",
    "conda install numpy   #in the anaconda Environment \n",
    "\n",
    "or\n",
    "\n",
    "pip install numpy     #in terminal or command promt"
   ]
  },
  {
   "cell_type": "markdown",
   "id": "9b8ac768",
   "metadata": {},
   "source": [
    "#### 3. How to import NumPy?\n",
    "After installing NumPy, you can now use this library by importing it. To import NumPy use:\n",
    "\n",
    "import numpy as np\n",
    "\n",
    "as means alias"
   ]
  },
  {
   "cell_type": "markdown",
   "id": "07b4c6cd",
   "metadata": {},
   "source": [
    "#### 4. What is an array?\n",
    "\n",
    "An array is a data structure consisting of a collection of elements (values or variables), each identified by at least one array index or key.\n",
    "\n",
    "##### Array of different dimensions\n",
    "1d-array\n",
    "2d-array\n",
    "3d-array\n",
    "\n",
    "An array is known as the central data structure of the NumPy library. Array in NumPy is called as NumPy Array.\n",
    "\n"
   ]
  },
  {
   "cell_type": "markdown",
   "id": "a84c5bea",
   "metadata": {},
   "source": [
    "#### 5. What is the difference between Python List and a Numpy Array?\n",
    "\n",
    "Python list can contain elements with different data types whereas Numpy Array‘s elements are always homogeneous(same data types).\n",
    "NumPy arrays are faster and more compact than Python lists.\n",
    "Why NumPy Arrays are faster than Lists?\n",
    "\n",
    "NumPy Array uses fixed memory to store data and less memory than Python lists.\n",
    "Contiguous memory allocation in NumPy Arrays."
   ]
  },
  {
   "cell_type": "markdown",
   "id": "3f6e21f3",
   "metadata": {},
   "source": [
    "#### 6. Creating Arrays\n",
    "NumPy Arrays of different dimensions can be created by using ndarray(n-dimensional array). It is an array class in NumPy.The basic ndarray can be created using the numpy.array() function in NumPy.\n",
    "\n",
    "numpy.array(object, dtype = None, copy = True, order = None, subok = False, ndmin = 0)\n"
   ]
  },
  {
   "cell_type": "markdown",
   "id": "7334d3bd",
   "metadata": {},
   "source": [
    "##### a)1-Dimensional Array"
   ]
  },
  {
   "cell_type": "code",
   "execution_count": 84,
   "id": "c38eee38",
   "metadata": {},
   "outputs": [
    {
     "name": "stdout",
     "output_type": "stream",
     "text": [
      "[3 2 7]\n",
      "[3 2 7]\n"
     ]
    }
   ],
   "source": [
    "import numpy as np\n",
    "#creating 1-dimensional arrays\n",
    "#creating python list\n",
    "list_1 = [3,2,7]\n",
    "arr_1 = np.array(list_1,dtype=np.int16)\n",
    "print(arr_1)\n",
    "\t\t#or \n",
    "arr_1=np.array([3,2,7])\n",
    "print(arr_1)"
   ]
  },
  {
   "cell_type": "code",
   "execution_count": 6,
   "id": "cd7acc37",
   "metadata": {},
   "outputs": [
    {
     "name": "stdout",
     "output_type": "stream",
     "text": [
      "[1.+0.j 2.+0.j 3.+0.j]\n"
     ]
    }
   ],
   "source": [
    "#creating array of complex number\n",
    "arr_complex = np.array([1, 2, 3], dtype = complex)\n",
    "print(arr_complex)"
   ]
  },
  {
   "cell_type": "markdown",
   "id": "0c1e121d",
   "metadata": {},
   "source": [
    "##### b)Multi-Dimensional array"
   ]
  },
  {
   "cell_type": "code",
   "execution_count": 7,
   "id": "1fc05071",
   "metadata": {},
   "outputs": [
    {
     "name": "stdout",
     "output_type": "stream",
     "text": [
      "[[1 2 3]\n",
      " [4 5 6]\n",
      " [7 8 9]]\n"
     ]
    }
   ],
   "source": [
    "#creating two-dimensionsal array\n",
    "list_m = [[1, 2, 3], [4, 5, 6], [7, 8, 9]] #nested lists\n",
    "arr_m = np.array(list_m,dtype=np.int16)\n",
    "print(arr_m)"
   ]
  },
  {
   "cell_type": "markdown",
   "id": "abd1ed68",
   "metadata": {},
   "source": [
    "###### you can create arrays with different Data Types (dtypes):\n",
    "\n",
    "Boolean : np.bool_\n",
    "\n",
    "Char : np.byte\n",
    "\n",
    "Short : np.short\n",
    "\n",
    "Integer : np.short\n",
    "\n",
    "Long : np.int_\n",
    "\n",
    "Float : np.single&np.float32\n",
    "\n",
    "Double :np.double&np.float64\n",
    "\n",
    "np.int8: integer (-128 to 127)\n",
    "\n",
    "np.int16:integer( -32768 to 32767)\n",
    "\n",
    "np.int32: integer(-2147483648 to 2147483647)\n",
    "\n",
    "np.int64 :integer( -9223372036854775808 to 9223372036854775807)"
   ]
  },
  {
   "cell_type": "markdown",
   "id": "91588d18",
   "metadata": {},
   "source": [
    "##### c) ndarray in NumPy also provides many functions to create different types of arrays."
   ]
  },
  {
   "cell_type": "markdown",
   "id": "4e7e0b6c",
   "metadata": {},
   "source": [
    "###### i)An Array having all elements 0"
   ]
  },
  {
   "cell_type": "code",
   "execution_count": 8,
   "id": "1437db9b",
   "metadata": {},
   "outputs": [
    {
     "name": "stdout",
     "output_type": "stream",
     "text": [
      "[[0. 0.]\n",
      " [0. 0.]]\n"
     ]
    }
   ],
   "source": [
    "#Creating an array of all zeros\n",
    "arr_0 = np.zeros((2,2))  \n",
    "print(arr_0)"
   ]
  },
  {
   "cell_type": "markdown",
   "id": "c5955a74",
   "metadata": {},
   "source": [
    "##### ii)An Array having all elements 1"
   ]
  },
  {
   "cell_type": "code",
   "execution_count": 9,
   "id": "2545573e",
   "metadata": {},
   "outputs": [
    {
     "name": "stdout",
     "output_type": "stream",
     "text": [
      "[[1. 1.]]\n"
     ]
    }
   ],
   "source": [
    "# Creating an array of all ones\n",
    "arr_1= np.ones((1,2))    \n",
    "print(arr_1)"
   ]
  },
  {
   "cell_type": "markdown",
   "id": "083d240e",
   "metadata": {},
   "source": [
    "##### iii)An array with a constant"
   ]
  },
  {
   "cell_type": "code",
   "execution_count": 10,
   "id": "49298db8",
   "metadata": {},
   "outputs": [
    {
     "name": "stdout",
     "output_type": "stream",
     "text": [
      "[[7 7]\n",
      " [7 7]]\n"
     ]
    }
   ],
   "source": [
    "# Creating a constant array\n",
    "arr_c = np.full((2,2), 7) \n",
    "print(arr_c)"
   ]
  },
  {
   "cell_type": "markdown",
   "id": "24220f83",
   "metadata": {},
   "source": [
    "##### iv)Creating an array with start value, end value and number of values"
   ]
  },
  {
   "cell_type": "code",
   "execution_count": 13,
   "id": "80d20b96",
   "metadata": {},
   "outputs": [
    {
     "name": "stdout",
     "output_type": "stream",
     "text": [
      "[0.         0.83333333 1.66666667 2.5        3.33333333 4.16666667\n",
      " 5.        ]\n"
     ]
    }
   ],
   "source": [
    "arr_L = np.linspace(0, 5,7)\n",
    "print(arr_L)\n",
    "#observe here dtype('float64')"
   ]
  },
  {
   "cell_type": "code",
   "execution_count": 12,
   "id": "b8a92817",
   "metadata": {},
   "outputs": [
    {
     "data": {
      "text/plain": [
       "numpy.ndarray"
      ]
     },
     "execution_count": 12,
     "metadata": {},
     "output_type": "execute_result"
    }
   ],
   "source": [
    "type(arr_L)"
   ]
  },
  {
   "cell_type": "markdown",
   "id": "0f11173a",
   "metadata": {},
   "source": [
    "##### v) Creating an array with start value, end value and number of values(datatypes int)"
   ]
  },
  {
   "cell_type": "code",
   "execution_count": 14,
   "id": "aec1d0f4",
   "metadata": {},
   "outputs": [
    {
     "name": "stdout",
     "output_type": "stream",
     "text": [
      "[1 2 3 4 5 6 7 8 9]\n"
     ]
    }
   ],
   "source": [
    "arr_a=np.arange(1, 10,1)\n",
    "print(arr_a)\n",
    "\n",
    "#here dtype('int32')"
   ]
  },
  {
   "cell_type": "markdown",
   "id": "2548a9ad",
   "metadata": {},
   "source": [
    "##### vi)An array filled with random values"
   ]
  },
  {
   "cell_type": "code",
   "execution_count": 17,
   "id": "e76e100a",
   "metadata": {},
   "outputs": [
    {
     "name": "stdout",
     "output_type": "stream",
     "text": [
      "[[0.4098625  0.77455006]\n",
      " [0.38040622 0.27144236]]\n"
     ]
    }
   ],
   "source": [
    "arr_r = np.random.random((2,2))  \n",
    "print(arr_r)"
   ]
  },
  {
   "cell_type": "markdown",
   "id": "9391a2ea",
   "metadata": {},
   "source": [
    "##### vii)An array filled with random integers"
   ]
  },
  {
   "cell_type": "code",
   "execution_count": 18,
   "id": "7863dcc3",
   "metadata": {},
   "outputs": [
    {
     "name": "stdout",
     "output_type": "stream",
     "text": [
      "[86 84 16 87 95 70 53]\n"
     ]
    }
   ],
   "source": [
    "arr_1= np.random.randint(10,100,7)  \n",
    "print(arr_1)"
   ]
  },
  {
   "cell_type": "markdown",
   "id": "371017c6",
   "metadata": {},
   "source": [
    "##### vii) An array filled with random values(which follows Normal Distribution)"
   ]
  },
  {
   "cell_type": "code",
   "execution_count": 19,
   "id": "e0bab0e8",
   "metadata": {},
   "outputs": [
    {
     "name": "stdout",
     "output_type": "stream",
     "text": [
      "[-0.18513135 -0.03257172 -0.09932623  0.69704476  0.42409576  2.12101134\n",
      " -0.12643525  1.05245642  1.19604572 -0.22166724]\n"
     ]
    }
   ],
   "source": [
    "arr_n= np.random.randn(10)  \n",
    "print(arr_n) "
   ]
  },
  {
   "cell_type": "markdown",
   "id": "1cf7bfc7",
   "metadata": {},
   "source": [
    "##### viii)Creating a 2x2 identity matrix"
   ]
  },
  {
   "cell_type": "code",
   "execution_count": 20,
   "id": "bd741e47",
   "metadata": {},
   "outputs": [
    {
     "name": "stdout",
     "output_type": "stream",
     "text": [
      "[[1. 0.]\n",
      " [0. 1.]]\n"
     ]
    }
   ],
   "source": [
    "arr_I = np.eye(2)         \n",
    "print(arr_I)"
   ]
  },
  {
   "cell_type": "markdown",
   "id": "2470bada",
   "metadata": {},
   "source": [
    "##### ix)Creating Arrays from existing data\n",
    "    This is useful for converting Python sequence into ndarray.\n",
    "\n",
    "\tnumpy.asarray(a, dtype=None ,order = None)"
   ]
  },
  {
   "cell_type": "code",
   "execution_count": 21,
   "id": "423de8a0",
   "metadata": {},
   "outputs": [
    {
     "name": "stdout",
     "output_type": "stream",
     "text": [
      "[1 2 3]\n"
     ]
    }
   ],
   "source": [
    "#converting list to ndarray \n",
    "import numpy as np\n",
    "x = [1,2,3] \n",
    "a = np.asarray(x) \n",
    "print (a)"
   ]
  },
  {
   "cell_type": "code",
   "execution_count": 22,
   "id": "348c8766",
   "metadata": {},
   "outputs": [
    {
     "name": "stdout",
     "output_type": "stream",
     "text": [
      "[1 2 3]\n"
     ]
    }
   ],
   "source": [
    "# ndarray from tuple \n",
    "x_1 = (1,2,3) \n",
    "a_1 = np.asarray(x_1) \n",
    "print (a_1)"
   ]
  },
  {
   "cell_type": "code",
   "execution_count": 24,
   "id": "cfbe9531",
   "metadata": {},
   "outputs": [
    {
     "name": "stdout",
     "output_type": "stream",
     "text": [
      "[(1, 2, 3) (4, 5)]\n"
     ]
    }
   ],
   "source": [
    "# ndarray from list of tuples \n",
    "import numpy as np\n",
    "x_2 = [(1,2,3),(4,5)] \n",
    "a_2 = np.asarray(x_2) \n",
    "print (a_2)"
   ]
  },
  {
   "cell_type": "markdown",
   "id": "80e349ef",
   "metadata": {},
   "source": [
    "#### 7.Important Arrays attributes\n",
    "\n",
    "\tarr.shape :It returns a tuple listing the length of the array along each dimension."
   ]
  },
  {
   "cell_type": "code",
   "execution_count": 25,
   "id": "57420882",
   "metadata": {},
   "outputs": [
    {
     "name": "stdout",
     "output_type": "stream",
     "text": [
      "(2, 3)\n"
     ]
    }
   ],
   "source": [
    "import numpy as np \n",
    "arr = np.array([[1,2,3],[4,5,6]]) \n",
    "print (arr.shape)"
   ]
  },
  {
   "cell_type": "code",
   "execution_count": 26,
   "id": "bdf01f8b",
   "metadata": {},
   "outputs": [
    {
     "name": "stdout",
     "output_type": "stream",
     "text": [
      "[[1 2]\n",
      " [3 4]\n",
      " [5 6]]\n",
      "[[1 2]\n",
      " [3 4]\n",
      " [5 6]]\n"
     ]
    }
   ],
   "source": [
    "#resizing the above array\n",
    "a = np.array([[1,2,3],[4,5,6]]) \n",
    "a.shape = (3,2) \n",
    "print (a)\n",
    "\n",
    "#    or \n",
    "\n",
    "a = np.array([[1,2,3],[4,5,6]]) \n",
    "b = a.reshape(3,2) \n",
    "print (b)\n"
   ]
  },
  {
   "cell_type": "markdown",
   "id": "34295d3e",
   "metadata": {},
   "source": [
    "arr.size :It returns the total number of elements in an array."
   ]
  },
  {
   "cell_type": "code",
   "execution_count": 27,
   "id": "305fd704",
   "metadata": {},
   "outputs": [
    {
     "name": "stdout",
     "output_type": "stream",
     "text": [
      "6\n"
     ]
    }
   ],
   "source": [
    "import numpy as np \n",
    "x = np.array([[3,2,1],[4,6,1]]) \n",
    "print(x.size)"
   ]
  },
  {
   "cell_type": "markdown",
   "id": "5ad36288",
   "metadata": {},
   "source": [
    "arr.itemsize:It returns the number of bytes per element."
   ]
  },
  {
   "cell_type": "code",
   "execution_count": 28,
   "id": "1f395d2f",
   "metadata": {},
   "outputs": [
    {
     "data": {
      "text/plain": [
       "4"
      ]
     },
     "execution_count": 28,
     "metadata": {},
     "output_type": "execute_result"
    }
   ],
   "source": [
    "import numpy as np \n",
    "a = np.array([[1,2,3],[4,5,6]]) \n",
    "a.itemsize"
   ]
  },
  {
   "cell_type": "markdown",
   "id": "3bc81862",
   "metadata": {},
   "source": [
    "arr.ndim:This array attribute returns the number of array dimensions."
   ]
  },
  {
   "cell_type": "code",
   "execution_count": 29,
   "id": "a12b3211",
   "metadata": {},
   "outputs": [
    {
     "data": {
      "text/plain": [
       "2"
      ]
     },
     "execution_count": 29,
     "metadata": {},
     "output_type": "execute_result"
    }
   ],
   "source": [
    "import numpy as np \n",
    "a = np.array([[1,2,3],[4,5,6]]) \n",
    "a.ndim"
   ]
  },
  {
   "cell_type": "markdown",
   "id": "46fd4a0a",
   "metadata": {},
   "source": [
    "type(arr) This attribute is used to check the type."
   ]
  },
  {
   "cell_type": "code",
   "execution_count": 32,
   "id": "b39e1e40",
   "metadata": {},
   "outputs": [
    {
     "name": "stdout",
     "output_type": "stream",
     "text": [
      "[[1 2 3]\n",
      " [4 5 6]]\n"
     ]
    },
    {
     "data": {
      "text/plain": [
       "numpy.ndarray"
      ]
     },
     "execution_count": 32,
     "metadata": {},
     "output_type": "execute_result"
    }
   ],
   "source": [
    "#for example -\n",
    "import numpy as np \n",
    "arr = np.array([[1,2,3],[4,5,6]]) \n",
    "print (arr)\n",
    "\n",
    "type(arr)"
   ]
  },
  {
   "cell_type": "markdown",
   "id": "270abb13",
   "metadata": {},
   "source": [
    "arr.dtype:It is used to check the data type or numeric type of the arrays."
   ]
  },
  {
   "cell_type": "code",
   "execution_count": 33,
   "id": "0b95c5d6",
   "metadata": {},
   "outputs": [
    {
     "name": "stdout",
     "output_type": "stream",
     "text": [
      "int32\n"
     ]
    }
   ],
   "source": [
    "#for example -\n",
    "print(arr.dtype)"
   ]
  },
  {
   "cell_type": "markdown",
   "id": "b05336fb",
   "metadata": {},
   "source": [
    "arr.nbytes:It returns the number of bytes used by the data portion of the array."
   ]
  },
  {
   "cell_type": "code",
   "execution_count": 34,
   "id": "731ef653",
   "metadata": {},
   "outputs": [
    {
     "data": {
      "text/plain": [
       "24"
      ]
     },
     "execution_count": 34,
     "metadata": {},
     "output_type": "execute_result"
    }
   ],
   "source": [
    "import numpy as np \n",
    "a = np.array([[1,2,3],[4,5,6]]) \n",
    "a.nbytes"
   ]
  },
  {
   "cell_type": "markdown",
   "id": "9cf92859",
   "metadata": {},
   "source": [
    "#### 8.Indexing&Slicing"
   ]
  },
  {
   "cell_type": "markdown",
   "id": "3f8dc3c9",
   "metadata": {},
   "source": [
    "Indexing is used to assign numbers to each element in the NumPy array or we can say it maps to the elements stored in an array. It helps to access an array element by referring to its index number."
   ]
  },
  {
   "cell_type": "code",
   "execution_count": 35,
   "id": "5ac8cc2c",
   "metadata": {},
   "outputs": [
    {
     "name": "stdout",
     "output_type": "stream",
     "text": [
      "[0 1 2 3 4 5 6 7 8 9]\n"
     ]
    }
   ],
   "source": [
    "import numpy as np\n",
    "arr = np.arange(10)\n",
    "print(arr)"
   ]
  },
  {
   "cell_type": "code",
   "execution_count": 38,
   "id": "7b01bc7d",
   "metadata": {},
   "outputs": [
    {
     "name": "stdout",
     "output_type": "stream",
     "text": [
      "7\n",
      "7\n"
     ]
    }
   ],
   "source": [
    "#Example-1\n",
    "print(arr[7])\n",
    "#or \n",
    "print(arr[-3])"
   ]
  },
  {
   "cell_type": "code",
   "execution_count": 39,
   "id": "9958a77d",
   "metadata": {},
   "outputs": [
    {
     "name": "stdout",
     "output_type": "stream",
     "text": [
      "[0 1 2 3 4]\n",
      "[0 1 2 3 4 5]\n"
     ]
    }
   ],
   "source": [
    "#Example-2\n",
    "print(arr[0:5])\n",
    "#or \n",
    "print(arr[0:-4])"
   ]
  },
  {
   "cell_type": "code",
   "execution_count": 40,
   "id": "8de6e225",
   "metadata": {},
   "outputs": [
    {
     "name": "stdout",
     "output_type": "stream",
     "text": [
      "[6 7 8]\n"
     ]
    }
   ],
   "source": [
    "#Example-3\n",
    "print(arr[-4:-1])"
   ]
  },
  {
   "cell_type": "markdown",
   "id": "9282c542",
   "metadata": {},
   "source": [
    "Slicing is an operation used to extract a portion of elements from arrays by specifying lower and upper bound.\n",
    "\n",
    "arr[lower:upper:step]\n",
    "The lower bound element is included but the upper bound element is not included. The step value indicates the stride between the elements."
   ]
  },
  {
   "cell_type": "markdown",
   "id": "3133c217",
   "metadata": {},
   "source": [
    "##### Slicing 1-Dimensional Array"
   ]
  },
  {
   "cell_type": "code",
   "execution_count": 41,
   "id": "f6e6512b",
   "metadata": {},
   "outputs": [
    {
     "name": "stdout",
     "output_type": "stream",
     "text": [
      "2\n"
     ]
    }
   ],
   "source": [
    "import numpy as np \n",
    "arr = np.arange(10)\n",
    "#Slicing single element\n",
    "slice_arr = arr[2] \n",
    "print (slice_arr)"
   ]
  },
  {
   "cell_type": "code",
   "execution_count": 43,
   "id": "fded80cf",
   "metadata": {},
   "outputs": [
    {
     "name": "stdout",
     "output_type": "stream",
     "text": [
      "[2 3 4]\n",
      "[2 3 4]\n"
     ]
    }
   ],
   "source": [
    "#Slicing elements in between indexes\n",
    "print (arr[2:5])\n",
    "#or\n",
    "print (arr[-8:-5]) #using negative index"
   ]
  },
  {
   "cell_type": "code",
   "execution_count": 45,
   "id": "a4ce3105",
   "metadata": {},
   "outputs": [
    {
     "name": "stdout",
     "output_type": "stream",
     "text": [
      "[2 4 6]\n",
      "[2 4 6]\n"
     ]
    }
   ],
   "source": [
    "#using slice(lower,upper,step) function\n",
    "s = slice(2,7,2) \n",
    "print (arr[s])\n",
    "#or\n",
    "slice_arr = arr[2:7:2] \n",
    "print (slice_arr)"
   ]
  },
  {
   "cell_type": "markdown",
   "id": "3005d98d",
   "metadata": {},
   "source": [
    "##### For slicing specific elements"
   ]
  },
  {
   "cell_type": "code",
   "execution_count": 85,
   "id": "38f8be19",
   "metadata": {},
   "outputs": [
    {
     "name": "stdout",
     "output_type": "stream",
     "text": [
      "[11 14 15]\n"
     ]
    }
   ],
   "source": [
    "x= np.array([11,12,13,14,15])\n",
    "print(np.take(x, [0, 3, 4]))"
   ]
  },
  {
   "cell_type": "code",
   "execution_count": 47,
   "id": "5b34946b",
   "metadata": {},
   "outputs": [
    {
     "name": "stdout",
     "output_type": "stream",
     "text": [
      "[0 1 2 3 4]\n"
     ]
    }
   ],
   "source": [
    "arr=np.arange(10)\n",
    "#Example-1\n",
    "print(arr[:5])"
   ]
  },
  {
   "cell_type": "code",
   "execution_count": 48,
   "id": "85a31225",
   "metadata": {},
   "outputs": [
    {
     "name": "stdout",
     "output_type": "stream",
     "text": [
      "[5 6 7 8 9]\n"
     ]
    }
   ],
   "source": [
    "#Example-2\n",
    "print(arr[5:])"
   ]
  },
  {
   "cell_type": "code",
   "execution_count": 49,
   "id": "723def65",
   "metadata": {},
   "outputs": [
    {
     "name": "stdout",
     "output_type": "stream",
     "text": [
      "[0 2 4 6 8]\n"
     ]
    }
   ],
   "source": [
    "#Example-3\n",
    "print(arr[::2])"
   ]
  },
  {
   "cell_type": "markdown",
   "id": "832e4d02",
   "metadata": {},
   "source": [
    "##### Slicing Multi-Dimensional Arrays\n",
    "Slicing can be done in multi-dimensional arrays same as the above examples."
   ]
  },
  {
   "cell_type": "code",
   "execution_count": 51,
   "id": "31504ee9",
   "metadata": {},
   "outputs": [
    {
     "name": "stdout",
     "output_type": "stream",
     "text": [
      "[[1 2 3]\n",
      " [3 4 5]\n",
      " [4 5 6]]\n"
     ]
    }
   ],
   "source": [
    "import numpy as np \n",
    "arr = np.array([[1,2,3],[3,4,5],[4,5,6]])\n",
    "print (arr)"
   ]
  },
  {
   "cell_type": "code",
   "execution_count": 52,
   "id": "fc13ed05",
   "metadata": {},
   "outputs": [
    {
     "name": "stdout",
     "output_type": "stream",
     "text": [
      "[[1 2 3]]\n"
     ]
    }
   ],
   "source": [
    "#Slicing first row\n",
    "print (arr[0:1])"
   ]
  },
  {
   "cell_type": "code",
   "execution_count": 53,
   "id": "b724ee2f",
   "metadata": {},
   "outputs": [
    {
     "name": "stdout",
     "output_type": "stream",
     "text": [
      "[[3 4 5]\n",
      " [4 5 6]]\n"
     ]
    }
   ],
   "source": [
    "#slicing last 2 rows\n",
    "print (arr[1:])"
   ]
  },
  {
   "cell_type": "code",
   "execution_count": 54,
   "id": "4afc5748",
   "metadata": {},
   "outputs": [
    {
     "name": "stdout",
     "output_type": "stream",
     "text": [
      "[[1]\n",
      " [3]\n",
      " [4]]\n"
     ]
    }
   ],
   "source": [
    "#slicing three rows and first column\n",
    "print (arr[0:3,0:1])"
   ]
  },
  {
   "cell_type": "code",
   "execution_count": 55,
   "id": "c7409094",
   "metadata": {},
   "outputs": [
    {
     "name": "stdout",
     "output_type": "stream",
     "text": [
      "[[4]]\n"
     ]
    }
   ],
   "source": [
    "#slicing 4 from above array\n",
    "print (arr[1:2,1:2])"
   ]
  },
  {
   "cell_type": "markdown",
   "id": "66d7fb6d",
   "metadata": {},
   "source": [
    "#### 9.Stacking & Splitting\n",
    "Stacking is used to join a sequence of same dimension arrays along a new axis.\n",
    "\n",
    "numpy.stack(arrays,axis) : It returns a stacked array of the input arrays which has one more dimension than the input arrays."
   ]
  },
  {
   "cell_type": "code",
   "execution_count": 58,
   "id": "2a9a1f1e",
   "metadata": {},
   "outputs": [
    {
     "name": "stdout",
     "output_type": "stream",
     "text": [
      "[[1 2 3]\n",
      " [2 3 4]]\n",
      "(2, 3)\n"
     ]
    }
   ],
   "source": [
    "import numpy as np\n",
    "arr_1 = np.array([1, 2, 3])\n",
    "arr_2 = np.array([2, 3, 4])\n",
    "arr_stack=np.stack((arr_1,arr_2),axis=0)\n",
    "print(arr_stack)\n",
    "print(arr_stack.shape)"
   ]
  },
  {
   "cell_type": "code",
   "execution_count": 57,
   "id": "0c4eed1f",
   "metadata": {},
   "outputs": [
    {
     "name": "stdout",
     "output_type": "stream",
     "text": [
      "[[1 2]\n",
      " [2 3]\n",
      " [3 4]]\n",
      "(3, 2)\n"
     ]
    }
   ],
   "source": [
    "arr_stack=np.stack((arr_1,arr_2),axis=1)\n",
    "print(arr_stack)\n",
    "print(arr_stack.shape)"
   ]
  },
  {
   "cell_type": "markdown",
   "id": "ec6ed30a",
   "metadata": {},
   "source": [
    "The axis parameter specifies the index of the new axis in the dimensions of the result.\n",
    "\n",
    "numpy.vstack(tup) : Join arrays in sequence vertically (row-wise). The array formed by stacking will be at least 2-D. The arrays to be stacked must have the same shape along all but the first axis. 1-D arrays must have the same length.\n",
    "\n",
    "numpy.hstack(tup) : Join arrays in sequence horizontally(column-wise). The arrays to be stacked must have the same shape along all but the second axis, except 1-D arrays which can be any length."
   ]
  },
  {
   "cell_type": "code",
   "execution_count": 59,
   "id": "1d7b2656",
   "metadata": {},
   "outputs": [
    {
     "name": "stdout",
     "output_type": "stream",
     "text": [
      " arr_1\n",
      " [[2 9]\n",
      " [9 7]]\n",
      " arr_2\n",
      " [[4 1]\n",
      " [6 8]]\n"
     ]
    }
   ],
   "source": [
    "# Generate random arrays\n",
    "arr_1 = np.random.randint(10, size=(2, 2))\n",
    "print(\" arr_1\\n\", arr_1)\n",
    "arr_2 = np.random.randint(10, size=(2, 2))\n",
    "print(\" arr_2\\n\", arr_2)"
   ]
  },
  {
   "cell_type": "code",
   "execution_count": 60,
   "id": "d0e3e944",
   "metadata": {},
   "outputs": [
    {
     "name": "stdout",
     "output_type": "stream",
     "text": [
      "[[2 9]\n",
      " [9 7]\n",
      " [4 1]\n",
      " [6 8]]\n"
     ]
    }
   ],
   "source": [
    "# Stack arr_2 under arr_1\n",
    "a=np.vstack((arr_1, arr_2))\n",
    "print(a)"
   ]
  },
  {
   "cell_type": "code",
   "execution_count": 61,
   "id": "a4412bb0",
   "metadata": {},
   "outputs": [
    {
     "name": "stdout",
     "output_type": "stream",
     "text": [
      "[[2 9 4 1]\n",
      " [9 7 6 8]]\n"
     ]
    }
   ],
   "source": [
    "# Stacking  horizontally\n",
    "b=np.hstack((arr_1, arr_2))\n",
    "print(b)"
   ]
  },
  {
   "cell_type": "markdown",
   "id": "9c6bb09a",
   "metadata": {},
   "source": [
    "numpy.dstack(tup) : Join arrays in sequence depth wise (along the third axis). The array formed by stacking will be at least 3-D. The arrays to be stacked must have the same shape along all but the third axis. 1-D or 2-D arrays must have the same shape."
   ]
  },
  {
   "cell_type": "code",
   "execution_count": 62,
   "id": "63020862",
   "metadata": {},
   "outputs": [
    {
     "name": "stdout",
     "output_type": "stream",
     "text": [
      "[[[2 4]\n",
      "  [9 1]]\n",
      "\n",
      " [[9 6]\n",
      "  [7 8]]]\n"
     ]
    }
   ],
   "source": [
    "#stacking depth wise\n",
    "c=np.dstack((arr_1, arr_2))\n",
    "print(c)"
   ]
  },
  {
   "cell_type": "markdown",
   "id": "db13d1fa",
   "metadata": {},
   "source": [
    "numpy.column_stack(tup) : It works the same as hstack and joins arrays in sequence horizontally(column-wise).\n",
    "\n",
    "numpy.row_stack(tup) : It works the same as vstack and joins arrays in sequence vertically(row-wise)."
   ]
  },
  {
   "cell_type": "code",
   "execution_count": 64,
   "id": "5962608c",
   "metadata": {},
   "outputs": [
    {
     "name": "stdout",
     "output_type": "stream",
     "text": [
      "[[2 9]\n",
      " [9 7]\n",
      " [4 1]\n",
      " [6 8]]\n"
     ]
    }
   ],
   "source": [
    "# row_stack()\n",
    "a=np.row_stack((arr_1, arr_2))\n",
    "print(a)"
   ]
  },
  {
   "cell_type": "code",
   "execution_count": 65,
   "id": "9d419e50",
   "metadata": {},
   "outputs": [
    {
     "name": "stdout",
     "output_type": "stream",
     "text": [
      "[[2 9 4 1]\n",
      " [9 7 6 8]]\n"
     ]
    }
   ],
   "source": [
    "# column_stack()\n",
    "b=np.column_stack((arr_1, arr_2))\n",
    "print(b)"
   ]
  },
  {
   "cell_type": "markdown",
   "id": "c93afc99",
   "metadata": {},
   "source": [
    "Splitting is used to split an array into multiple sub-arrays. It can be done using following NumPy functions.\n",
    "\n",
    "numpy.split(array,Indices_or_sections,axis) : This function used to split an array into multiple sub-arrays of equal size. It returns a list of sub-arrays."
   ]
  },
  {
   "cell_type": "code",
   "execution_count": 66,
   "id": "c09363d6",
   "metadata": {},
   "outputs": [
    {
     "data": {
      "text/plain": [
       "[array([0., 1., 2.]), array([3., 4., 5.]), array([6., 7., 8.])]"
      ]
     },
     "execution_count": 66,
     "metadata": {},
     "output_type": "execute_result"
    }
   ],
   "source": [
    "x = np.arange(9.0)\n",
    "np.split(x, 3)"
   ]
  },
  {
   "cell_type": "markdown",
   "id": "11884775",
   "metadata": {},
   "source": [
    "numpy.array_split(array,Indices_or_sections,axis) : This function is also used to split an array into multiple sub-arrays of equal or near-equal size."
   ]
  },
  {
   "cell_type": "code",
   "execution_count": 68,
   "id": "c2cba080",
   "metadata": {},
   "outputs": [
    {
     "data": {
      "text/plain": [
       "[array([0., 1., 2.]), array([3., 4., 5.]), array([6., 7.])]"
      ]
     },
     "execution_count": 68,
     "metadata": {},
     "output_type": "execute_result"
    }
   ],
   "source": [
    "x = np.arange(8.0)\n",
    "np.array_split(x, 3)"
   ]
  },
  {
   "cell_type": "code",
   "execution_count": 69,
   "id": "af6f207d",
   "metadata": {},
   "outputs": [
    {
     "data": {
      "text/plain": [
       "[array([0., 1., 2.]), array([3., 4.]), array([5., 6.])]"
      ]
     },
     "execution_count": 69,
     "metadata": {},
     "output_type": "execute_result"
    }
   ],
   "source": [
    "x = np.arange(7.0)\n",
    "np.array_split(x, 3)\n",
    "#all splitted arrays are not equal in size"
   ]
  },
  {
   "cell_type": "markdown",
   "id": "9d4ad6af",
   "metadata": {},
   "source": [
    "numpy.hsplit(array,Indices_or_sections,axis) : This function is also used to split an array into multiple sub-arrays but horizontally (column-wise). hsplit is equivalent to split with axis=1."
   ]
  },
  {
   "cell_type": "code",
   "execution_count": 73,
   "id": "a82c1520",
   "metadata": {},
   "outputs": [
    {
     "data": {
      "text/plain": [
       "array([[ 0.,  1.,  2.,  3.],\n",
       "       [ 4.,  5.,  6.,  7.],\n",
       "       [ 8.,  9., 10., 11.],\n",
       "       [12., 13., 14., 15.]])"
      ]
     },
     "execution_count": 73,
     "metadata": {},
     "output_type": "execute_result"
    }
   ],
   "source": [
    "arr_1 = np.arange(16.0).reshape(4, 4)\n",
    "arr_1"
   ]
  },
  {
   "cell_type": "code",
   "execution_count": 74,
   "id": "ee8cadc2",
   "metadata": {},
   "outputs": [
    {
     "data": {
      "text/plain": [
       "[array([[ 0.,  1.],\n",
       "        [ 4.,  5.],\n",
       "        [ 8.,  9.],\n",
       "        [12., 13.]]),\n",
       " array([[ 2.,  3.],\n",
       "        [ 6.,  7.],\n",
       "        [10., 11.],\n",
       "        [14., 15.]])]"
      ]
     },
     "execution_count": 74,
     "metadata": {},
     "output_type": "execute_result"
    }
   ],
   "source": [
    "np.hsplit(arr_1, 2)"
   ]
  },
  {
   "cell_type": "code",
   "execution_count": 75,
   "id": "eda05997",
   "metadata": {},
   "outputs": [
    {
     "data": {
      "text/plain": [
       "[array([[ 0.,  1.,  2.],\n",
       "        [ 4.,  5.,  6.],\n",
       "        [ 8.,  9., 10.],\n",
       "        [12., 13., 14.]]),\n",
       " array([[ 3.],\n",
       "        [ 7.],\n",
       "        [11.],\n",
       "        [15.]]),\n",
       " array([], shape=(4, 0), dtype=float64)]"
      ]
     },
     "execution_count": 75,
     "metadata": {},
     "output_type": "execute_result"
    }
   ],
   "source": [
    "np.hsplit(arr_1, np.array([3, 6]))"
   ]
  },
  {
   "cell_type": "markdown",
   "id": "463f9a2c",
   "metadata": {},
   "source": [
    "numpy.vsplit(array,Indices_or_sections,axis) : This function is also used to split an array into multiple sub-arrays but vertically (row-wise). hsplit is equivalent to split with axis=0."
   ]
  },
  {
   "cell_type": "code",
   "execution_count": 80,
   "id": "9ece61e3",
   "metadata": {},
   "outputs": [
    {
     "data": {
      "text/plain": [
       "array([[ 0.,  1.,  2.,  3.],\n",
       "       [ 4.,  5.,  6.,  7.],\n",
       "       [ 8.,  9., 10., 11.],\n",
       "       [12., 13., 14., 15.]])"
      ]
     },
     "execution_count": 80,
     "metadata": {},
     "output_type": "execute_result"
    }
   ],
   "source": [
    "arr_1= np.arange(16.0).reshape(4, 4)\n",
    "arr_1"
   ]
  },
  {
   "cell_type": "code",
   "execution_count": 81,
   "id": "21f36ff7",
   "metadata": {},
   "outputs": [
    {
     "data": {
      "text/plain": [
       "[array([[0., 1., 2., 3.],\n",
       "        [4., 5., 6., 7.]]),\n",
       " array([[ 8.,  9., 10., 11.],\n",
       "        [12., 13., 14., 15.]])]"
      ]
     },
     "execution_count": 81,
     "metadata": {},
     "output_type": "execute_result"
    }
   ],
   "source": [
    "np.vsplit(arr_1, 2)"
   ]
  },
  {
   "cell_type": "code",
   "execution_count": 82,
   "id": "a2e6e537",
   "metadata": {},
   "outputs": [
    {
     "data": {
      "text/plain": [
       "[array([[ 0.,  1.,  2.,  3.],\n",
       "        [ 4.,  5.,  6.,  7.],\n",
       "        [ 8.,  9., 10., 11.]]),\n",
       " array([[12., 13., 14., 15.]]),\n",
       " array([], shape=(0, 4), dtype=float64)]"
      ]
     },
     "execution_count": 82,
     "metadata": {},
     "output_type": "execute_result"
    }
   ],
   "source": [
    "np.vsplit(arr_1, np.array([3, 6]))"
   ]
  },
  {
   "cell_type": "markdown",
   "id": "d5a81acd",
   "metadata": {},
   "source": [
    "#### 11.Basic Maths with NumPy"
   ]
  },
  {
   "cell_type": "markdown",
   "id": "c4a00bda",
   "metadata": {},
   "source": [
    "##### Addition,Subtraction,Multiplication and Division between two arrays."
   ]
  },
  {
   "cell_type": "code",
   "execution_count": 87,
   "id": "916e940d",
   "metadata": {},
   "outputs": [
    {
     "name": "stdout",
     "output_type": "stream",
     "text": [
      "[ 3  6  9 12]\n"
     ]
    },
    {
     "data": {
      "text/plain": [
       "array([ 3,  6,  9, 12])"
      ]
     },
     "execution_count": 87,
     "metadata": {},
     "output_type": "execute_result"
    }
   ],
   "source": [
    "import numpy as np\n",
    "arr_3 = np.array([1, 2, 3, 4])\n",
    "arr_4 = np.array([2, 4, 6, 8])\n",
    "\n",
    "# Add values\n",
    "print(arr_3 + arr_4)\n",
    "#or\n",
    "np.add(arr_3 ,arr_4)\n",
    "\n"
   ]
  },
  {
   "cell_type": "code",
   "execution_count": 88,
   "id": "1fcb6090",
   "metadata": {},
   "outputs": [
    {
     "name": "stdout",
     "output_type": "stream",
     "text": [
      "[-1 -2 -3 -4]\n"
     ]
    },
    {
     "data": {
      "text/plain": [
       "array([-1, -2, -3, -4])"
      ]
     },
     "execution_count": 88,
     "metadata": {},
     "output_type": "execute_result"
    }
   ],
   "source": [
    "# Subtract\n",
    "print(arr_3 - arr_4)\n",
    "#or\n",
    "np.subtract(arr_3 ,arr_4)"
   ]
  },
  {
   "cell_type": "code",
   "execution_count": 89,
   "id": "162b569d",
   "metadata": {},
   "outputs": [
    {
     "name": "stdout",
     "output_type": "stream",
     "text": [
      "[ 2  8 18 32]\n"
     ]
    },
    {
     "data": {
      "text/plain": [
       "array([ 2,  8, 18, 32])"
      ]
     },
     "execution_count": 89,
     "metadata": {},
     "output_type": "execute_result"
    }
   ],
   "source": [
    "# Multiply\n",
    "print(arr_3 * arr_4)\n",
    "#or\n",
    "np.multiply(arr_3 ,arr_4)\n"
   ]
  },
  {
   "cell_type": "code",
   "execution_count": 91,
   "id": "363313e8",
   "metadata": {},
   "outputs": [
    {
     "name": "stdout",
     "output_type": "stream",
     "text": [
      "[0.5 0.5 0.5 0.5]\n"
     ]
    },
    {
     "data": {
      "text/plain": [
       "array([0.5, 0.5, 0.5, 0.5])"
      ]
     },
     "execution_count": 91,
     "metadata": {},
     "output_type": "execute_result"
    }
   ],
   "source": [
    "# Divide\n",
    "print(arr_3 / arr_4)\n",
    "#or\n",
    "np.divide(arr_3,arr_4)"
   ]
  },
  {
   "cell_type": "markdown",
   "id": "1b7a9920",
   "metadata": {},
   "source": [
    "##### Operation on array using sum() & cumsum() function."
   ]
  },
  {
   "cell_type": "code",
   "execution_count": 92,
   "id": "6a88ccc2",
   "metadata": {},
   "outputs": [
    {
     "name": "stdout",
     "output_type": "stream",
     "text": [
      "[[56 71 67]\n",
      " [93 58 51]]\n"
     ]
    }
   ],
   "source": [
    "#Random 2 by 3 digit 2D array between 0 to 100\n",
    "arr_6 =np.random.randint(100, size=(2, 3))\n",
    "print(arr_6)"
   ]
  },
  {
   "cell_type": "code",
   "execution_count": 93,
   "id": "296bd5ce",
   "metadata": {},
   "outputs": [
    {
     "name": "stdout",
     "output_type": "stream",
     "text": [
      "10\n"
     ]
    }
   ],
   "source": [
    "# Sum of values in array\n",
    "a=arr_3.sum()\n",
    "print(a)"
   ]
  },
  {
   "cell_type": "code",
   "execution_count": 94,
   "id": "f8de39c1",
   "metadata": {},
   "outputs": [
    {
     "name": "stdout",
     "output_type": "stream",
     "text": [
      "[149 129 118]\n"
     ]
    }
   ],
   "source": [
    "# Sum columns\n",
    "c=arr_6.sum(axis=0)\n",
    "print(c)"
   ]
  },
  {
   "cell_type": "code",
   "execution_count": 95,
   "id": "e2ebf4cd",
   "metadata": {},
   "outputs": [
    {
     "name": "stdout",
     "output_type": "stream",
     "text": [
      "[[ 56 127 194]\n",
      " [ 93 151 202]]\n"
     ]
    }
   ],
   "source": [
    "# Cumulative sum of rows\n",
    "b=arr_6.cumsum(axis=1)\n",
    "print(b)"
   ]
  },
  {
   "cell_type": "markdown",
   "id": "dac5b130",
   "metadata": {},
   "source": [
    "##### Minimum and Maximum value from an array"
   ]
  },
  {
   "cell_type": "code",
   "execution_count": 96,
   "id": "3e5b260b",
   "metadata": {},
   "outputs": [
    {
     "name": "stdout",
     "output_type": "stream",
     "text": [
      "[50 26]\n",
      "[87 96 50]\n"
     ]
    }
   ],
   "source": [
    "arr=np.array([[62, 96, 50],\n",
    "       [87, 26, 42]])\n",
    "# Min of each row\n",
    "print(arr.min(axis=1))\n",
    "\n",
    "# Max of each column\n",
    "print(arr.max(axis=0))\n"
   ]
  },
  {
   "cell_type": "code",
   "execution_count": 97,
   "id": "4cec8c92",
   "metadata": {},
   "outputs": [
    {
     "name": "stdout",
     "output_type": "stream",
     "text": [
      "[1 2]\n"
     ]
    }
   ],
   "source": [
    "#Absolute Value of every elements\n",
    "\n",
    "print(np.absolute([-1, -2]))"
   ]
  },
  {
   "cell_type": "markdown",
   "id": "876a6918",
   "metadata": {},
   "source": [
    "##### Exponent/Power , Square Root and Cube Root functions"
   ]
  },
  {
   "cell_type": "code",
   "execution_count": 102,
   "id": "641b6b15",
   "metadata": {},
   "outputs": [
    {
     "name": "stdout",
     "output_type": "stream",
     "text": [
      "[[     1     16]\n",
      " [   729 262144]]\n"
     ]
    }
   ],
   "source": [
    "arr_5 = np.array([[1, 2], [3, 4]])\n",
    "arr_6 = np.array([[2, 4], [6, 9]])\n",
    "\n",
    "# Return values in 1st array to powers defined in 2nd array\n",
    "print(np.power(arr_5, arr_6))"
   ]
  },
  {
   "cell_type": "code",
   "execution_count": 100,
   "id": "a116b37c",
   "metadata": {},
   "outputs": [
    {
     "name": "stdout",
     "output_type": "stream",
     "text": [
      "[1.         1.41421356 1.73205081 2.        ]\n"
     ]
    }
   ],
   "source": [
    "arr_3 = np.array([1, 2, 3, 4])\n",
    "#Square Root\n",
    "print(np.sqrt(arr_3))"
   ]
  },
  {
   "cell_type": "code",
   "execution_count": 101,
   "id": "2bfc864b",
   "metadata": {},
   "outputs": [
    {
     "name": "stdout",
     "output_type": "stream",
     "text": [
      "[1.         1.25992105 1.44224957 1.58740105]\n"
     ]
    }
   ],
   "source": [
    "#Cube Root\n",
    "print(np.cbrt(arr_3))"
   ]
  },
  {
   "cell_type": "markdown",
   "id": "cea64d90",
   "metadata": {},
   "source": [
    "##### Exponential of all elements in array"
   ]
  },
  {
   "cell_type": "code",
   "execution_count": 103,
   "id": "b61fa4e4",
   "metadata": {},
   "outputs": [
    {
     "name": "stdout",
     "output_type": "stream",
     "text": [
      "[ 2.71828183  7.3890561  20.08553692 54.59815003]\n"
     ]
    }
   ],
   "source": [
    "arr_3 = np.array([1, 2, 3, 4])\n",
    "#Exponential of all elements in array\n",
    "print(np.exp(arr_3))"
   ]
  },
  {
   "cell_type": "markdown",
   "id": "c0d6ac42",
   "metadata": {},
   "source": [
    "##### Logarithmic Functions"
   ]
  },
  {
   "cell_type": "code",
   "execution_count": 104,
   "id": "7b5a6b5b",
   "metadata": {},
   "outputs": [
    {
     "name": "stdout",
     "output_type": "stream",
     "text": [
      "[0.         0.69314718 1.09861229 1.38629436]\n"
     ]
    }
   ],
   "source": [
    "print(np.log(arr_3))"
   ]
  },
  {
   "cell_type": "code",
   "execution_count": 105,
   "id": "c7f56f0e",
   "metadata": {},
   "outputs": [
    {
     "name": "stdout",
     "output_type": "stream",
     "text": [
      "[0.        1.        1.5849625 2.       ]\n"
     ]
    }
   ],
   "source": [
    "print(np.log2(arr_3))"
   ]
  },
  {
   "cell_type": "code",
   "execution_count": 106,
   "id": "818c7406",
   "metadata": {},
   "outputs": [
    {
     "name": "stdout",
     "output_type": "stream",
     "text": [
      "[0.         0.30103    0.47712125 0.60205999]\n"
     ]
    }
   ],
   "source": [
    "print(np.log10(arr_3))"
   ]
  },
  {
   "cell_type": "code",
   "execution_count": 107,
   "id": "9485e94a",
   "metadata": {},
   "outputs": [
    {
     "name": "stdout",
     "output_type": "stream",
     "text": [
      "3\n"
     ]
    }
   ],
   "source": [
    "#Greatest common divisor\n",
    "print(np.gcd.reduce([9, 12, 15]))"
   ]
  },
  {
   "cell_type": "code",
   "execution_count": 108,
   "id": "092e3a2f",
   "metadata": {},
   "outputs": [
    {
     "name": "stdout",
     "output_type": "stream",
     "text": [
      "180\n"
     ]
    }
   ],
   "source": [
    "#Least Common Multiple\n",
    "print(np.lcm.reduce([9, 12, 15]))"
   ]
  },
  {
   "cell_type": "code",
   "execution_count": 110,
   "id": "d0af3871",
   "metadata": {},
   "outputs": [
    {
     "name": "stdout",
     "output_type": "stream",
     "text": [
      "[1. 2.]\n"
     ]
    }
   ],
   "source": [
    "#Round down and Round up of elements of an array\n",
    "# Round down\n",
    "print(np.floor([1.2, 2.5]))"
   ]
  },
  {
   "cell_type": "code",
   "execution_count": 111,
   "id": "594e6c17",
   "metadata": {},
   "outputs": [
    {
     "name": "stdout",
     "output_type": "stream",
     "text": [
      "[2. 3.]\n"
     ]
    }
   ],
   "source": [
    "# Round up\n",
    "print(np.ceil([1.2, 2.5]))"
   ]
  },
  {
   "cell_type": "markdown",
   "id": "25cace31",
   "metadata": {},
   "source": [
    "#### 12.Trigonometry Functions in NumPy"
   ]
  },
  {
   "cell_type": "markdown",
   "id": "587a3d2e",
   "metadata": {},
   "source": [
    "numpy.sin() :Sine (x) Function\n",
    "\n",
    "numpy.cos() :Cosine(x) Function\n",
    "\n",
    "numpy.tan() :Tangent(x)Function\n",
    "\n",
    "numpy.sinh() :Hyperbolic Sine (x) Function\n",
    "\n",
    "numpy.cosh() :Hyperbolic Cosine(x) Functionv\n",
    "\n",
    "numpy.tanh() :Hyperbolic Tangent(x)Function\n",
    "\n",
    "numpy.arcsin() :Inverse Sine Function\n",
    "\n",
    "numpy.arccos() :Inverse Cosine Function\n",
    "\n",
    "numpy.arctan() : Inverse Tangent Function\n",
    "\n",
    "numpy.pi : pi value\n",
    "\n",
    "numpy.hypot(w,h) :For calculating Hypotenuse c = √w² + h²\n",
    "\n",
    "numpy.rad2deg() : Radians to degrees\n",
    "\n",
    "numpy.deg2rad() : Degrees to radians"
   ]
  },
  {
   "cell_type": "markdown",
   "id": "fc52c949",
   "metadata": {},
   "source": [
    "##### Plotting trigonometric functions"
   ]
  },
  {
   "cell_type": "code",
   "execution_count": 116,
   "id": "2f16020c",
   "metadata": {},
   "outputs": [
    {
     "data": {
      "image/png": "[encoded data removed]",
      "text/plain": [
       "<Figure size 432x288 with 1 Axes>"
      ]
     },
     "metadata": {
      "needs_background": "light"
     },
     "output_type": "display_data"
    }
   ],
   "source": [
    "import numpy as np\n",
    "import matplotlib.pyplot as plt\n",
    "# Generate array of 200 values between -pi & pi\n",
    "t_arr = np.linspace(-2*np.pi, 2*np.pi, 200)\n",
    "fig = plt.figure()\n",
    "ax = plt.axes()\n",
    "ax.grid(color='blue', linestyle='-', linewidth=2,alpha=0.1)\n",
    "# Plotting Sin(X)\n",
    "plt.plot(t_arr, np.sin(t_arr),color='red') # SIN\n",
    "plt.title(\"sin(x)\")\n",
    "# Display plot\n",
    "plt.show()"
   ]
  },
  {
   "cell_type": "code",
   "execution_count": 117,
   "id": "e03b5e6c",
   "metadata": {},
   "outputs": [
    {
     "data": {
      "text/plain": [
       "Text(0.5, 1.0, 'cos(x)')"
      ]
     },
     "execution_count": 117,
     "metadata": {},
     "output_type": "execute_result"
    },
    {
     "data": {
      "image/png": "[encoded data removed]",
      "text/plain": [
       "<Figure size 432x288 with 1 Axes>"
      ]
     },
     "metadata": {
      "needs_background": "light"
     },
     "output_type": "display_data"
    }
   ],
   "source": [
    "#plotting cos(x)\n",
    "plt.plot(t_arr, np.cos(t_arr),color='darkorange') # COS\n",
    "plt.title(\"cos(x)\")"
   ]
  },
  {
   "cell_type": "code",
   "execution_count": 118,
   "id": "38f17c90",
   "metadata": {},
   "outputs": [
    {
     "data": {
      "text/plain": [
       "Text(0.5, 1.0, 'tan(x)')"
      ]
     },
     "execution_count": 118,
     "metadata": {},
     "output_type": "execute_result"
    },
    {
     "data": {
      "image/png": "[encoded data removed]",
      "text/plain": [
       "<Figure size 432x288 with 1 Axes>"
      ]
     },
     "metadata": {
      "needs_background": "light"
     },
     "output_type": "display_data"
    }
   ],
   "source": [
    "#plotting tan(x)\n",
    "plt.plot(t_arr, np.tan(t_arr),color='skyblue') # TAN\n",
    "plt.title(\"tan(x)\")"
   ]
  },
  {
   "cell_type": "code",
   "execution_count": 119,
   "id": "1840fd71",
   "metadata": {},
   "outputs": [
    {
     "data": {
      "image/png": "[encoded data removed]",
      "text/plain": [
       "<Figure size 432x288 with 1 Axes>"
      ]
     },
     "metadata": {
      "needs_background": "light"
     },
     "output_type": "display_data"
    }
   ],
   "source": [
    "# Plotting all graphs in a single graph\n",
    "plt.plot(t_arr, np.sin(t_arr),color='black',label='sin(x)') # SIN\n",
    "plt.plot(t_arr, np.cos(t_arr),color='darkorange',label='cos(x)') # COS\n",
    "plt.plot(t_arr, np.tan(t_arr),color='skyblue',label='tan(x)') # TAN\n",
    "plt.legend(loc='best')\n",
    "plt.show()"
   ]
  },
  {
   "cell_type": "markdown",
   "id": "50bec3dd",
   "metadata": {},
   "source": [
    "##### Inverse trigonometric functions"
   ]
  },
  {
   "cell_type": "code",
   "execution_count": 124,
   "id": "d983cab0",
   "metadata": {},
   "outputs": [
    {
     "name": "stdout",
     "output_type": "stream",
     "text": [
      "1.5707963267948966\n",
      "0.0\n",
      "0.0\n"
     ]
    }
   ],
   "source": [
    "# Provides inverse \n",
    "print(np.arcsin(1))\n",
    "print(np.arccos(1))\n",
    "print(np.arctan(0))"
   ]
  },
  {
   "cell_type": "markdown",
   "id": "8724e8be",
   "metadata": {},
   "source": [
    "##### Radians to degrees & Degrees to radians"
   ]
  },
  {
   "cell_type": "code",
   "execution_count": 122,
   "id": "b176503c",
   "metadata": {},
   "outputs": [
    {
     "name": "stdout",
     "output_type": "stream",
     "text": [
      "180.0\n",
      "3.141592653589793\n"
     ]
    }
   ],
   "source": [
    "# Radians to degrees\n",
    "print(np.rad2deg(np.pi))\n",
    "\n",
    "# Degrees to radians\n",
    "print(np.deg2rad(180))\n"
   ]
  },
  {
   "cell_type": "markdown",
   "id": "ea54ec39",
   "metadata": {},
   "source": [
    "#### 13.Important Statistics Functions in NumPy"
   ]
  },
  {
   "cell_type": "markdown",
   "id": "40772c75",
   "metadata": {},
   "source": [
    "numpy.mean() : This function is used to calculate the mean of data.\n",
    "\n",
    "numpy.average() : To calculate the average of any data.\n",
    "\n",
    "numpy.median() : To calculate the median.\n",
    "\n",
    "numpy.mode() : To calculate the mode of any data.\n",
    "\n",
    "numpy.var() : To calculate the variance of any data.\n",
    "\n",
    "numpy.std() : To calculate the standard deviation.\n",
    "\n",
    "numpy.percentile() : To calculate percentile values.\n",
    "\n",
    "numpy.corrcoef() : To calculate the correlation coefficient."
   ]
  },
  {
   "cell_type": "code",
   "execution_count": 128,
   "id": "8954ec24",
   "metadata": {},
   "outputs": [
    {
     "name": "stdout",
     "output_type": "stream",
     "text": [
      "[1 2 3 4 5]\n"
     ]
    }
   ],
   "source": [
    "#Examples:\n",
    "\n",
    "arr_1 = np.arange(1, 6)\n",
    "print(arr_1)"
   ]
  },
  {
   "cell_type": "code",
   "execution_count": 129,
   "id": "a9f18fc3",
   "metadata": {},
   "outputs": [
    {
     "name": "stdout",
     "output_type": "stream",
     "text": [
      "3.0\n"
     ]
    }
   ],
   "source": [
    "#mean\n",
    "print(np.mean(arr_1))"
   ]
  },
  {
   "cell_type": "code",
   "execution_count": 130,
   "id": "a16dead6",
   "metadata": {},
   "outputs": [
    {
     "name": "stdout",
     "output_type": "stream",
     "text": [
      "3.0\n"
     ]
    }
   ],
   "source": [
    "#median\n",
    "print(np.median(arr_1))"
   ]
  },
  {
   "cell_type": "code",
   "execution_count": 131,
   "id": "974d4d73",
   "metadata": {},
   "outputs": [
    {
     "name": "stdout",
     "output_type": "stream",
     "text": [
      "3.0\n"
     ]
    }
   ],
   "source": [
    "#average\n",
    "print(np.average(arr_1))"
   ]
  },
  {
   "cell_type": "code",
   "execution_count": 132,
   "id": "ff2c918b",
   "metadata": {},
   "outputs": [
    {
     "name": "stdout",
     "output_type": "stream",
     "text": [
      "1.4142135623730951\n"
     ]
    }
   ],
   "source": [
    "# Standard Deviation\n",
    "print(np.std([4, 6, 3, 5, 2])) "
   ]
  },
  {
   "cell_type": "code",
   "execution_count": 133,
   "id": "79ccd1d3",
   "metadata": {},
   "outputs": [
    {
     "name": "stdout",
     "output_type": "stream",
     "text": [
      "2.0\n"
     ]
    }
   ],
   "source": [
    "#variance\n",
    "print(np.var([4, 6, 3, 5, 2]))"
   ]
  },
  {
   "cell_type": "markdown",
   "id": "806243a4",
   "metadata": {},
   "source": [
    "#### 14. Linear Algebra With Numpy"
   ]
  },
  {
   "cell_type": "code",
   "execution_count": 135,
   "id": "67a34d42",
   "metadata": {},
   "outputs": [
    {
     "name": "stdout",
     "output_type": "stream",
     "text": [
      "[4 6 7]\n"
     ]
    }
   ],
   "source": [
    "#Vector Transpose\n",
    "\n",
    "import numpy as np\n",
    "import matplotlib.pyplot as plt\n",
    "from mpl_toolkits.mplot3d import Axes3D\n",
    "v3=[ 4, 6 , 7 ]\n",
    "v2= [ 4 ,7 ,9 ]\n",
    "v3t = np.transpose(v3)\n",
    "print(v3t)"
   ]
  },
  {
   "cell_type": "code",
   "execution_count": 137,
   "id": "080275fb",
   "metadata": {},
   "outputs": [
    {
     "name": "stdout",
     "output_type": "stream",
     "text": [
      "[ 7 13]\n",
      "[3 1]\n"
     ]
    }
   ],
   "source": [
    "#Vector Addition & Subtraction\n",
    "\n",
    "#taking 2 vectors of same dimention\n",
    "v1 = np.array([ 2 ,6 ])\n",
    "v2 = np.array([ 5 ,7 ])\n",
    "v3 = v1+v2 #Addition\n",
    "print(v3)\n",
    "\n",
    "[ 7, 13]\n",
    "v4 = v2-v1 #Subtraction\n",
    "print(v4)"
   ]
  },
  {
   "cell_type": "code",
   "execution_count": 139,
   "id": "513324fb",
   "metadata": {},
   "outputs": [
    {
     "name": "stdout",
     "output_type": "stream",
     "text": [
      "[6.3 1.4]\n"
     ]
    }
   ],
   "source": [
    "#Vector Multiplication\n",
    "\n",
    "# VECTOR SCALAR PRODUCT\n",
    "v1 = np.array([ 9 ,2 ]) \n",
    "c= 0.7\n",
    "v2= c*v1\n",
    "print(v2)"
   ]
  },
  {
   "cell_type": "code",
   "execution_count": 140,
   "id": "95ab6a67",
   "metadata": {},
   "outputs": [
    {
     "name": "stdout",
     "output_type": "stream",
     "text": [
      "37\n",
      "37\n",
      "37\n"
     ]
    }
   ],
   "source": [
    "# dot product \n",
    "v1 = np.array([ 4 ,3 ,9 ])\n",
    "v2 = np.array([ 1 ,2 ,3 ])\n",
    "#method 1\n",
    "D_P1 = sum( np.multiply(v1,v2)  )\n",
    "print(D_P1)\n",
    "\n",
    "#method 2\n",
    "D_P2 = np.dot( v1,v2 )\n",
    "print(D_P2)\n",
    "\n",
    "#method 3\n",
    "D_P3= np.matmul( v1,v2 )\n",
    "print(D_P3)"
   ]
  },
  {
   "cell_type": "code",
   "execution_count": 141,
   "id": "36fada78",
   "metadata": {},
   "outputs": [
    {
     "name": "stdout",
     "output_type": "stream",
     "text": [
      "[ 3 12 10]\n"
     ]
    }
   ],
   "source": [
    "# Hadamard Multiplication\n",
    "\n",
    "# create vectors\n",
    "w1 = [ 1, 3, 5 ]\n",
    "w2 = [ 3, 4, 2 ]\n",
    "w3 = np.multiply(w1,w2)\n",
    "print(w3)"
   ]
  },
  {
   "cell_type": "code",
   "execution_count": 142,
   "id": "67c24bcd",
   "metadata": {},
   "outputs": [
    {
     "name": "stdout",
     "output_type": "stream",
     "text": [
      "[ 9  6 -9]\n"
     ]
    }
   ],
   "source": [
    "# Vector Cross Product\n",
    "v1 = np.array([3,9,9])\n",
    "v2 = np.array([2,3,4])\n",
    "v3 = np.cross (v1,v2)\n",
    "print (v3)"
   ]
  },
  {
   "cell_type": "code",
   "execution_count": 144,
   "id": "fad16953",
   "metadata": {},
   "outputs": [
    {
     "name": "stdout",
     "output_type": "stream",
     "text": [
      "7.810249675906654\n",
      "7.810249675906654\n"
     ]
    }
   ],
   "source": [
    "#Vector Length\n",
    "\n",
    "#  vector \n",
    "v1 = np.array([ 3,4,6 ])\n",
    "# example method 1\n",
    "vl = np.sqrt( sum( np.multiply(v1,v1)) )\n",
    "print(vl)\n",
    "#or\n",
    "# method 2: take the norm\n",
    "vl = np.linalg.norm(v1)\n",
    "print(vl)"
   ]
  },
  {
   "cell_type": "markdown",
   "id": "f877895b",
   "metadata": {},
   "source": [
    "These are the most used functions in numpy we have lot more there"
   ]
  },
  {
   "cell_type": "code",
   "execution_count": null,
   "id": "d574563c",
   "metadata": {},
   "outputs": [],
   "source": []
  }
 ],
 "metadata": {
  "kernelspec": {
   "display_name": "Python 3 (ipykernel)",
   "language": "python",
   "name": "python3"
  },
  "language_info": {
   "codemirror_mode": {
    "name": "ipython",
    "version": 3
   },
   "file_extension": ".py",
   "mimetype": "text/x-python",
   "name": "python",
   "nbconvert_exporter": "python",
   "pygments_lexer": "ipython3",
   "version": "3.9.7"
  }
 },
 "nbformat": 4,
 "nbformat_minor": 5
}
